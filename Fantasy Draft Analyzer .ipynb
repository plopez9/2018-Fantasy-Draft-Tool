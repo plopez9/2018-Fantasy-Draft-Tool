{
 "cells": [
  {
   "cell_type": "code",
   "execution_count": 4,
   "metadata": {
    "collapsed": true
   },
   "outputs": [],
   "source": [
    "import sys\n",
    "import pandas as pd\n",
    "import urllib\n",
    "from bs4 import BeautifulSoup as bs\n",
    "import requests\n",
    "import io\n",
    "PROJECT_ROOT=r\"C:\\Users\\Pedro\\Desktop\\Python Notes\\Programs\\Untitled Folder\"\n",
    "sys.path.insert(0, PROJECT_ROOT)"
   ]
  },
  {
   "cell_type": "code",
   "execution_count": 5,
   "metadata": {
    "collapsed": true
   },
   "outputs": [],
   "source": [
    "URL = \"http://rotoguru1.com/cgi-bin/fyday.pl?week=WK&year=2017&game=dk&scsv=1\"\n",
    "weeks = range(1,18, 1)"
   ]
  },
  {
   "cell_type": "code",
   "execution_count": 11,
   "metadata": {},
   "outputs": [
    {
     "name": "stdout",
     "output_type": "stream",
     "text": [
      "   Week  Year   GID              Name Pos Team h/a Oppt  DK points  DK salary\n",
      "0    15  2017  1378       Newton, Cam  QB  car   h  gnb      31.48     6400.0\n",
      "1    15  2017  1225      Manning, Eli  QB  nyg   h  phi      31.36     4600.0\n",
      "2    15  2017  1442    Bortles, Blake  QB  jac   h  hou      28.04     5700.0\n",
      "3    15  2017  1465   Winston, Jameis  QB  tam   h  atl      25.76     5900.0\n",
      "4    15  2017  1413       Foles, Nick  QB  phi   a  nyg      25.48     5500.0\n",
      "5    15  2017  1414   Osweiler, Brock  QB  den   a  ind      25.46     4800.0\n",
      "6    15  2017  1252    Rodgers, Aaron  QB  gnb   a  car      24.90     6800.0\n",
      "7    15  2017  1400     Taylor, Tyrod  QB  buf   h  mia      23.16     5400.0\n",
      "8    15  2017  1452  Garoppolo, Jimmy  QB  sfo   h  ten      22.64     6300.0\n",
      "9    15  2017  1302       Flacco, Joe  QB  bal   a  cle      21.82     5100.0\n"
     ]
    }
   ],
   "source": [
    "df = pd.DataFrame()\n",
    "for w in weeks:\n",
    "    URL = URL.replace(\"WK\", str(w))\n",
    "    request = requests.get(URL)\n",
    "    data = request.text\n",
    "    temp_df=pd.read_csv(io.StringIO(bs(data, \"html.parser\").find(\"pre\").text), sep=\";\")\n",
    "print(temp_df.head(10))\n",
    "    "
   ]
  },
  {
   "cell_type": "code",
   "execution_count": null,
   "metadata": {
    "collapsed": true
   },
   "outputs": [],
   "source": []
  }
 ],
 "metadata": {
  "kernelspec": {
   "display_name": "Python 3",
   "language": "python",
   "name": "python3"
  },
  "language_info": {
   "codemirror_mode": {
    "name": "ipython",
    "version": 3
   },
   "file_extension": ".py",
   "mimetype": "text/x-python",
   "name": "python",
   "nbconvert_exporter": "python",
   "pygments_lexer": "ipython3",
   "version": "3.6.3"
  }
 },
 "nbformat": 4,
 "nbformat_minor": 2
}
