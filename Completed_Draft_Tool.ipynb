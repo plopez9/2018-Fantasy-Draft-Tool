{
 "cells": [
  {
   "cell_type": "code",
   "execution_count": 40,
   "metadata": {},
   "outputs": [],
   "source": [
    "import sys\n",
    "import pandas as pd\n",
    "import urllib\n",
    "from bs4 import BeautifulSoup as bs\n",
    "import requests\n",
    "import io\n",
    "PROJECT_ROOT=r\"C:\\Users\\Pedro\\Desktop\\Python Notes\\Programs\\Untitled Folder\"\n",
    "sys.path.insert(0, PROJECT_ROOT)"
   ]
  },
  {
   "cell_type": "code",
   "execution_count": 41,
   "metadata": {},
   "outputs": [],
   "source": [
    "URL  =  \"http://rotoguru1.com/cgi-bin/fyday.pl?week=WK&year=2017&game=dk&scsv=1\"\n",
    "weeks = list(range(1,18, 1))"
   ]
  },
  {
   "cell_type": "code",
   "execution_count": 42,
   "metadata": {},
   "outputs": [],
   "source": [
    "df = pd.DataFrame()\n",
    "for w in weeks:\n",
    "    URL = URL.replace(\"WK\", str(w))\n",
    "    request = requests.get(URL)\n",
    "    data = request.text\n",
    "    temp_df=pd.read_csv(io.StringIO(bs(data, \"html.parser\").find(\"pre\").text), sep=\";\")\n",
    "    df = pd.concat([df, temp_df])\n",
    "    URL = \"http://rotoguru1.com/cgi-bin/fyday.pl?week=WK&year=2017&game=dk&scsv=1\"\n",
    "del temp_df\n",
    "del weeks\n",
    "del w\n",
    "del df[\"GID\"]"
   ]
  },
  {
   "cell_type": "code",
   "execution_count": 5,
   "metadata": {},
   "outputs": [],
   "source": [
    "df.set_index([\"Pos\", \"Name\", \"Year\", \"Week\", \"Oppt\"], inplace=True)"
   ]
  },
  {
   "cell_type": "code",
   "execution_count": 6,
   "metadata": {},
   "outputs": [],
   "source": [
    "defense = pd.DataFrame()\n",
    "position = [\"QB\", \"RB\", \"WR\", \"TE\"]\n",
    "for p in position:\n",
    "    opt_rb = df.xs(p, level = 'Pos')\n",
    "    opt_rb = opt_rb.groupby([\"Week\", \"Oppt\"]).sum()\n",
    "    opt_rb = opt_rb.drop(columns=[\"DK salary\"])\n",
    "    opt_rb [\"Pos\"] = p\n",
    "    defense = pd.concat([defense, opt_rb])\n",
    "del p\n",
    "del opt_rb\n",
    "del position"
   ]
  },
  {
   "cell_type": "code",
   "execution_count": 7,
   "metadata": {},
   "outputs": [],
   "source": [
    "opt_mean = round(defense.groupby([\"Oppt\", \"Pos\"]).mean(),2)\n",
    "opt_mean = opt_mean.rename(columns={\"DK points\": \"Oppt Average Points Allowed\"})"
   ]
  },
  {
   "cell_type": "code",
   "execution_count": 8,
   "metadata": {},
   "outputs": [],
   "source": [
    "df.reset_index(inplace=True)\n",
    "opt_mean.reset_index(inplace=True)\n",
    "df = pd.merge(df, opt_mean, on=[\"Pos\", \"Oppt\"])\n",
    "df.set_index([\"Pos\", \"Name\", \"Year\", \"Week\", \"Oppt\"], inplace=True)\n",
    "del opt_mean"
   ]
  },
  {
   "cell_type": "code",
   "execution_count": 9,
   "metadata": {},
   "outputs": [],
   "source": [
    "df_mean = df.drop(columns=[\"DK salary\"])\n",
    "df_mean = round(df_mean.groupby([\"Name\", \"Pos\", \"Year\"]).mean(), 2)\n",
    "df_mean = df_mean.rename(columns={\"DK points\":\"Avg points\"})"
   ]
  },
  {
   "cell_type": "code",
   "execution_count": 10,
   "metadata": {},
   "outputs": [],
   "source": [
    "df_std = df.drop(columns=[\"DK salary\", \"Oppt Average Points Allowed\"])\n",
    "df_std = round(df_std.groupby([\"Name\", \"Pos\", \"Year\"]).std(), 2)\n",
    "df_std = df_std.rename(columns={\"DK points\":\"STD\"})"
   ]
  },
  {
   "cell_type": "code",
   "execution_count": 11,
   "metadata": {},
   "outputs": [],
   "source": [
    "summary = pd.concat([df_mean, df_std], axis=1)\n",
    "del df_std\n",
    "del df_mean"
   ]
  },
  {
   "cell_type": "code",
   "execution_count": 12,
   "metadata": {},
   "outputs": [],
   "source": [
    "cieling = summary[\"Avg points\"] + summary[\"STD\"]\n",
    "floor = summary[\"Avg points\"] - summary[\"STD\"]"
   ]
  },
  {
   "cell_type": "code",
   "execution_count": 13,
   "metadata": {},
   "outputs": [],
   "source": [
    "HL=pd.concat({\"Cieling\":cieling, \"Floor\": floor}, axis=1)\n",
    "summary=pd.concat([summary, HL], axis=1)\n",
    "del cieling\n",
    "del floor"
   ]
  },
  {
   "cell_type": "code",
   "execution_count": 14,
   "metadata": {},
   "outputs": [],
   "source": [
    "gp = df.groupby([\"Name\", \"Pos\", \"Year\"]).count()\n",
    "gp = gp.drop(columns=[\"Team\", \"h/a\", \"DK points\", \"Oppt Average Points Allowed\"])\n",
    "gp = gp.rename(columns={\"DK salary\":\"Games Played\"})"
   ]
  },
  {
   "cell_type": "code",
   "execution_count": 15,
   "metadata": {},
   "outputs": [],
   "source": [
    "summary=pd.concat([summary, gp], axis=1)\n",
    "summary.sort_values(by=[\"Avg points\"], ascending=False, inplace=True)\n",
    "del gp"
   ]
  },
  {
   "cell_type": "code",
   "execution_count": 16,
   "metadata": {},
   "outputs": [],
   "source": [
    "summary = summary[[\"Avg points\", \"STD\", \"Cieling\", \"Floor\", \"Games Played\", \"Oppt Average Points Allowed\"]]\n",
    "summary.sort_values(by=[\"Avg points\"], ascending=False, inplace=True)"
   ]
  },
  {
   "cell_type": "code",
   "execution_count": 17,
   "metadata": {},
   "outputs": [],
   "source": [
    "idx= pd.IndexSlice\n",
    "temp = summary.loc[idx[:,\"WR\",:], idx[\"Oppt Average Points Allowed\"]].transform(lambda x: x/2)\n",
    "summary.update(temp, join=\"left\", overwrite=True, filter_func=None, raise_conflict=False)\n",
    "del temp"
   ]
  },
  {
   "cell_type": "code",
   "execution_count": 19,
   "metadata": {},
   "outputs": [
    {
     "data": {
      "text/html": [
       "<div>\n",
       "<style scoped>\n",
       "    .dataframe tbody tr th:only-of-type {\n",
       "        vertical-align: middle;\n",
       "    }\n",
       "\n",
       "    .dataframe tbody tr th {\n",
       "        vertical-align: top;\n",
       "    }\n",
       "\n",
       "    .dataframe thead th {\n",
       "        text-align: right;\n",
       "    }\n",
       "</style>\n",
       "<table border=\"1\" class=\"dataframe\">\n",
       "  <thead>\n",
       "    <tr style=\"text-align: right;\">\n",
       "      <th></th>\n",
       "      <th></th>\n",
       "      <th></th>\n",
       "      <th>Avg points</th>\n",
       "      <th>STD</th>\n",
       "      <th>Cieling</th>\n",
       "      <th>Floor</th>\n",
       "      <th>Games Played</th>\n",
       "      <th>Oppt Average Points Allowed</th>\n",
       "    </tr>\n",
       "    <tr>\n",
       "      <th>Name</th>\n",
       "      <th>Pos</th>\n",
       "      <th>Year</th>\n",
       "      <th></th>\n",
       "      <th></th>\n",
       "      <th></th>\n",
       "      <th></th>\n",
       "      <th></th>\n",
       "      <th></th>\n",
       "    </tr>\n",
       "  </thead>\n",
       "  <tbody>\n",
       "    <tr>\n",
       "      <th>Forte, Matt</th>\n",
       "      <th>RB</th>\n",
       "      <th>2017</th>\n",
       "      <td>10.2</td>\n",
       "      <td>7.3</td>\n",
       "      <td>17.5</td>\n",
       "      <td>2.9</td>\n",
       "      <td>12</td>\n",
       "      <td>24.9</td>\n",
       "    </tr>\n",
       "  </tbody>\n",
       "</table>\n",
       "</div>"
      ],
      "text/plain": [
       "                      Avg points  STD  Cieling  Floor  Games Played  \\\n",
       "Name        Pos Year                                                  \n",
       "Forte, Matt RB  2017        10.2  7.3     17.5    2.9            12   \n",
       "\n",
       "                      Oppt Average Points Allowed  \n",
       "Name        Pos Year                               \n",
       "Forte, Matt RB  2017                         24.9  "
      ]
     },
     "execution_count": 19,
     "metadata": {},
     "output_type": "execute_result"
    }
   ],
   "source": [
    "summary.query(\"Name == 'Forte, Matt'\")"
   ]
  },
  {
   "cell_type": "code",
   "execution_count": 433,
   "metadata": {},
   "outputs": [],
   "source": [
    "#xs1 = summary.query(\"Pos != 'QB'\")\n",
    "#xs2 = summary.xs(\"QB\", level=\"Pos\")"
   ]
  },
  {
   "cell_type": "code",
   "execution_count": 434,
   "metadata": {},
   "outputs": [],
   "source": [
    "#xs1.to_excel(\"Position_Draft_Card.xlsx\")\n",
    "#xs2.to_excel(\"QB_Draft_Card.xlsx\")"
   ]
  },
  {
   "cell_type": "code",
   "execution_count": null,
   "metadata": {},
   "outputs": [],
   "source": []
  }
 ],
 "metadata": {
  "kernelspec": {
   "display_name": "Python 3",
   "language": "python",
   "name": "python3"
  },
  "language_info": {
   "codemirror_mode": {
    "name": "ipython",
    "version": 3
   },
   "file_extension": ".py",
   "mimetype": "text/x-python",
   "name": "python",
   "nbconvert_exporter": "python",
   "pygments_lexer": "ipython3",
   "version": "3.6.5"
  }
 },
 "nbformat": 4,
 "nbformat_minor": 2
}
